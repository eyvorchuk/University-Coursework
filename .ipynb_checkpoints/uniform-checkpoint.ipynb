{
 "cells": [
  {
   "cell_type": "code",
   "execution_count": 1,
   "metadata": {},
   "outputs": [],
   "source": [
    "import numpy as np\n",
    "from scipy import stats\n",
    "import pandas as pd\n",
    "\n",
    "%matplotlib inline\n",
    "import matplotlib.pyplot as plt"
   ]
  },
  {
   "cell_type": "code",
   "execution_count": 2,
   "metadata": {},
   "outputs": [],
   "source": [
    "data = stats.uniform.rvs(size=100)"
   ]
  },
  {
   "cell_type": "code",
   "execution_count": 3,
   "metadata": {},
   "outputs": [
    {
     "data": {
      "text/plain": [
       "array([0.20681181, 0.13467968, 0.96862496, 0.04432797, 0.86742381,\n",
       "       0.44309394, 0.6630551 , 0.68169319, 0.40814445, 0.16662907,\n",
       "       0.64068992, 0.71852392, 0.57021305, 0.62907861, 0.79015242,\n",
       "       0.22088161, 0.02414144, 0.267611  , 0.36461654, 0.71376274,\n",
       "       0.763527  , 0.53942961, 0.17978373, 0.89440499, 0.985662  ,\n",
       "       0.04437701, 0.89233941, 0.31436601, 0.50234116, 0.8487319 ,\n",
       "       0.39169254, 0.61068091, 0.47148886, 0.32731389, 0.5938236 ,\n",
       "       0.12817803, 0.14178329, 0.34713254, 0.12142926, 0.54731365,\n",
       "       0.77429419, 0.69217289, 0.68568978, 0.65623701, 0.7522242 ,\n",
       "       0.85236456, 0.4794407 , 0.80564837, 0.7247019 , 0.06288343,\n",
       "       0.76491694, 0.48981261, 0.05707214, 0.8246218 , 0.20856225,\n",
       "       0.96913282, 0.49273766, 0.13538447, 0.60594396, 0.59271284,\n",
       "       0.54028555, 0.68072688, 0.78897688, 0.30007843, 0.13112642,\n",
       "       0.49248804, 0.35505365, 0.55028295, 0.51124149, 0.68125224,\n",
       "       0.04549155, 0.84633612, 0.48204261, 0.95238502, 0.79808974,\n",
       "       0.95410895, 0.69612456, 0.85744451, 0.95678124, 0.17578111,\n",
       "       0.69976765, 0.75291417, 0.62546131, 0.78602477, 0.05830249,\n",
       "       0.70341288, 0.69047773, 0.10303855, 0.5286755 , 0.5309892 ,\n",
       "       0.49317279, 0.69215708, 0.57008042, 0.55878489, 0.782043  ,\n",
       "       0.15724929, 0.97490487, 0.74310976, 0.16741677, 0.88829094])"
      ]
     },
     "execution_count": 3,
     "metadata": {},
     "output_type": "execute_result"
    }
   ],
   "source": [
    "data"
   ]
  },
  {
   "cell_type": "code",
   "execution_count": 4,
   "metadata": {},
   "outputs": [
    {
     "data": {
      "text/plain": [
       "0.5409888117323356"
      ]
     },
     "execution_count": 4,
     "metadata": {},
     "output_type": "execute_result"
    }
   ],
   "source": [
    "np.mean(data)"
   ]
  },
  {
   "cell_type": "code",
   "execution_count": 5,
   "metadata": {},
   "outputs": [],
   "source": [
    "nexp = 50\n",
    "sampleMeans = np.zeros(nexp)\n",
    "for i in range(nexp):\n",
    "    data = stats.uniform.rvs(size=100)\n",
    "    sampleMeans[i] = np.mean(data)"
   ]
  },
  {
   "cell_type": "code",
   "execution_count": 6,
   "metadata": {},
   "outputs": [
    {
     "data": {
      "text/plain": [
       "array([0.47980652, 0.47932643, 0.49720561, 0.4627211 , 0.48978733,\n",
       "       0.5336559 , 0.55674969, 0.49415375, 0.47491049, 0.48462364,\n",
       "       0.5227049 , 0.46098104, 0.48746215, 0.49539619, 0.49718362,\n",
       "       0.51499815, 0.51528223, 0.49857727, 0.50531751, 0.49793026,\n",
       "       0.56852464, 0.54598821, 0.54116848, 0.50857028, 0.55721162,\n",
       "       0.52727095, 0.49725136, 0.50399102, 0.50550443, 0.48536245,\n",
       "       0.49114917, 0.52319617, 0.56390309, 0.4735985 , 0.53614623,\n",
       "       0.50304771, 0.51395678, 0.47264308, 0.50220623, 0.53084361,\n",
       "       0.50216458, 0.46432076, 0.45428808, 0.51060925, 0.48782778,\n",
       "       0.48363473, 0.52651687, 0.48320697, 0.50252085, 0.52457806])"
      ]
     },
     "execution_count": 6,
     "metadata": {},
     "output_type": "execute_result"
    }
   ],
   "source": [
    "sampleMeans"
   ]
  },
  {
   "cell_type": "code",
   "execution_count": 9,
   "metadata": {},
   "outputs": [
    {
     "data": {
      "text/plain": [
       "0.000737211896494144"
      ]
     },
     "execution_count": 9,
     "metadata": {},
     "output_type": "execute_result"
    }
   ],
   "source": [
    "np.var(sampleMeans, ddof=1)"
   ]
  },
  {
   "cell_type": "code",
   "execution_count": 10,
   "metadata": {},
   "outputs": [
    {
     "data": {
      "text/plain": [
       "0.0008333333333333333"
      ]
     },
     "execution_count": 10,
     "metadata": {},
     "output_type": "execute_result"
    }
   ],
   "source": [
    "(1./12)/100"
   ]
  },
  {
   "cell_type": "code",
   "execution_count": null,
   "metadata": {},
   "outputs": [],
   "source": []
  }
 ],
 "metadata": {
  "kernelspec": {
   "display_name": "Python 3",
   "language": "python",
   "name": "python3"
  },
  "language_info": {
   "codemirror_mode": {
    "name": "ipython",
    "version": 3
   },
   "file_extension": ".py",
   "mimetype": "text/x-python",
   "name": "python",
   "nbconvert_exporter": "python",
   "pygments_lexer": "ipython3",
   "version": "3.7.4"
  }
 },
 "nbformat": 4,
 "nbformat_minor": 2
}
