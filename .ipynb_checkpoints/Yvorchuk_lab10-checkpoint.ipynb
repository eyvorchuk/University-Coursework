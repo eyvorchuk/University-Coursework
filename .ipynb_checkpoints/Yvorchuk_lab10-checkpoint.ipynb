{
 "cells": [
  {
   "cell_type": "markdown",
   "metadata": {},
   "source": [
    "## Part 1"
   ]
  },
  {
   "cell_type": "code",
   "execution_count": 1,
   "metadata": {},
   "outputs": [],
   "source": [
    "import numpy as np\n",
    "import matplotlib.pyplot as plt\n",
    "import random"
   ]
  },
  {
   "cell_type": "code",
   "execution_count": 2,
   "metadata": {},
   "outputs": [],
   "source": [
    "def interval(x):\n",
    "    if x<0:\n",
    "        return [np.nan, np.nan] # Denote empty interval (necessary for part 4)\n",
    "    elif x-np.sqrt(x) < 0:\n",
    "        return [0, x+np.sqrt(x)]\n",
    "    else:\n",
    "        return [x-np.sqrt(x), x+np.sqrt(x)]"
   ]
  },
  {
   "cell_type": "markdown",
   "metadata": {},
   "source": [
    "## Part 2"
   ]
  },
  {
   "cell_type": "markdown",
   "metadata": {},
   "source": [
    "For 68% confidence, the width is $\\sigma=\\sqrt{\\theta}$. So for a given $x$, the lower bound can be found from \n",
    "\n",
    "$x=\\theta_l+\\sqrt{\\theta_l}$. So $\\theta_l + \\sqrt{\\theta_l} - x=0$. This has the form of the quadratic equation. Thus, $\\sqrt{\\theta_l}=\\frac{-1+\\sqrt{1+4x}}{2}$. The positive root is taken because $\\sigma=\\sqrt{\\theta_l}\\geqslant0$. Squaring the equation gives $\\theta_l$. This in turn means that $\\theta_l$ is undefined if $x<0$.\n",
    "\n",
    "Similarly, the upper bound can be found from \n",
    "\n",
    "$x=\\theta_u-\\sqrt{\\theta_u}$. The corresponding quadratic equation is $\\sqrt{\\theta_u}=\\frac{1\\pm\\sqrt{1+4x}}{2}$. Squaring the equation gives $\\theta_u$. The condition $\\sqrt{\\theta_u}\\geqslant0$ means that only the positive root can be used for $x>0$, but both can be used for $x\\leqslant0$. Since $\\theta_l$ is defined for $x=0$, only use both roots for $x<0$. \n",
    "\n",
    "The radicand is $< 0$ if $x < -0.25$, in which case both $\\theta_l$ and $\\theta_u$ are undefined.\n",
    "\n",
    "The above findings are corroborated by the plots in the pdf, where the low curve does not exist for $x < 0$, and the high curve has two values for each $-0.25 <= x < 0$."
   ]
  },
  {
   "cell_type": "code",
   "execution_count": 3,
   "metadata": {},
   "outputs": [],
   "source": [
    "def lower(x):\n",
    "    return ((-1+np.sqrt(1+4*x))/2)**2"
   ]
  },
  {
   "cell_type": "code",
   "execution_count": 4,
   "metadata": {},
   "outputs": [],
   "source": [
    "def upper(x):\n",
    "    if (x >= 0):\n",
    "        return ((1+np.sqrt(1+4*x))/2)**2\n",
    "    else:\n",
    "        return [((1-np.sqrt(1+4*x))/2)**2, ((1+np.sqrt(1+4*x))/2)**2]"
   ]
  },
  {
   "cell_type": "code",
   "execution_count": 5,
   "metadata": {},
   "outputs": [],
   "source": [
    "x1 = np.linspace(0, 3.5, 100) # For x > 0 (used for both bounds (1 value each))\n",
    "x2 = np.linspace(-0.25, 0, 100) # For x < 0 (only used for upper bound (2 values))\n",
    "\n",
    "theta_l = lower(x1)\n",
    "theta_u1 = ((1-np.sqrt(1+4*x2))/2)**2 # For negative root\n",
    "theta_u2 = ((1+np.sqrt(1+4*x2))/2)**2 # For positive root (x < 0)\n",
    "theta_u3 = ((1+np.sqrt(1+4*x1))/2)**2 # For positive root (x > 0)"
   ]
  },
  {
   "cell_type": "code",
   "execution_count": 6,
   "metadata": {},
   "outputs": [],
   "source": [
    "def getNeymanBounds(x):\n",
    "    if (x >= -0.25 and x < 0):\n",
    "        return upper(x)\n",
    "    elif (x < -0.25):\n",
    "        return [np.nan, np.nan]\n",
    "    else:\n",
    "        return[lower(x), upper(x)]"
   ]
  },
  {
   "cell_type": "code",
   "execution_count": 7,
   "metadata": {},
   "outputs": [
    {
     "data": {
      "text/plain": [
       "<matplotlib.legend.Legend at 0x1163078d0>"
      ]
     },
     "execution_count": 7,
     "metadata": {},
     "output_type": "execute_result"
    },
    {
     "data": {
      "image/png": "[encoded data removed]",
      "text/plain": [
       "<Figure size 432x288 with 1 Axes>"
      ]
     },
     "metadata": {
      "needs_background": "light"
     },
     "output_type": "display_data"
    }
   ],
   "source": [
    "plt.plot(x1, x1, color='blue', label='expectation')\n",
    "plt.plot(x1, theta_l, color='orange', label='low')\n",
    "plt.plot(x2, theta_u1, 'g', label='high')\n",
    "plt.plot(x2, theta_u2, 'g')\n",
    "plt.plot(x1, theta_u3, 'g')\n",
    "plt.ylim(-0.1,2.1)\n",
    "\n",
    "for x, col in zip([-0.2, 0, 0.5], ['red', 'purple', 'brown']):\n",
    "    bounds = getNeymanBounds(x)\n",
    "    plt.plot([x,x], bounds, color=col, label=\"obs={}\".format(x))\n",
    "\n",
    "plt.legend()"
   ]
  },
  {
   "cell_type": "markdown",
   "metadata": {},
   "source": [
    "## Part 3"
   ]
  },
  {
   "cell_type": "code",
   "execution_count": 8,
   "metadata": {},
   "outputs": [
    {
     "name": "stdout",
     "output_type": "stream",
     "text": [
      "x=-0.2, approximate interval=[nan, nan], neyman interval = [0.07639320225002105, 0.5236067977499789]\n",
      "x=0, approximate interval=[0.0, 0.0], neyman interval = [0.0, 1.0]\n",
      "x=0.5, approximate interval=[0, 1.2071067811865475], neyman interval = [0.13397459621556132, 1.8660254037844386]\n",
      "x=1, approximate interval=[0.0, 2.0], neyman interval = [0.3819660112501052, 2.618033988749895]\n",
      "x=2, approximate interval=[0.5857864376269049, 3.414213562373095], neyman interval = [1.0, 4.0]\n"
     ]
    }
   ],
   "source": [
    "for x in [-0.2, 0, 0.5, 1, 2]:\n",
    "    appBounds = interval(x)\n",
    "    neymanBounds = getNeymanBounds(x)\n",
    "    print(\"x={}, approximate interval={}, neyman interval = {}\".format(x, appBounds, neymanBounds))"
   ]
  },
  {
   "cell_type": "markdown",
   "metadata": {},
   "source": [
    "## Part 4"
   ]
  },
  {
   "cell_type": "code",
   "execution_count": 12,
   "metadata": {},
   "outputs": [
    {
     "name": "stdout",
     "output_type": "stream",
     "text": [
      "For θ=0.1, the fraction of approximate intervals that contain the true value is 0.613.\n",
      "For θ=0.1, the fraction of Neyman intervals that contain the true value is 0.683.\n",
      "\n",
      "For θ=0.2, the fraction of approximate intervals that contain the true value is 0.645.\n",
      "For θ=0.2, the fraction of Neyman intervals that contain the true value is 0.683.\n",
      "\n",
      "For θ=1.0, the fraction of approximate intervals that contain the true value is 0.681.\n",
      "For θ=1.0, the fraction of Neyman intervals that contain the true value is 0.682.\n",
      "\n"
     ]
    }
   ],
   "source": [
    "for theta in [0.1, 0.2, 1.0]:\n",
    "    n_exp = 100000\n",
    "    n_app_acc = 0\n",
    "    n_neyman_acc = 0\n",
    "    for n in range(n_exp):\n",
    "        x = random.gauss(theta, np.sqrt(theta))\n",
    "        appBounds = interval(x)\n",
    "        neymanBounds = getNeymanBounds(x)\n",
    "        if (theta >= appBounds[0] and theta <= appBounds[1]):\n",
    "            n_app_acc += 1\n",
    "        if (theta >= neymanBounds[0] and theta <= neymanBounds[1]):\n",
    "            n_neyman_acc += 1\n",
    "    app_acc_frac = 1.*n_app_acc/n_exp\n",
    "    neyman_acc_frac = 1.*n_neyman_acc/n_exp\n",
    "    print(\"For \\u03B8={}, the fraction of approximate intervals that contain the true value is {:.3f}.\".format(theta, app_acc_frac))\n",
    "    print(\"For \\u03B8={}, the fraction of Neyman intervals that contain the true value is {:.3f}.\\n\".format(theta, neyman_acc_frac))  "
   ]
  },
  {
   "cell_type": "code",
   "execution_count": null,
   "metadata": {},
   "outputs": [],
   "source": []
  },
  {
   "cell_type": "code",
   "execution_count": null,
   "metadata": {},
   "outputs": [],
   "source": []
  },
  {
   "cell_type": "code",
   "execution_count": null,
   "metadata": {},
   "outputs": [],
   "source": []
  }
 ],
 "metadata": {
  "kernelspec": {
   "display_name": "Python 3",
   "language": "python",
   "name": "python3"
  },
  "language_info": {
   "codemirror_mode": {
    "name": "ipython",
    "version": 3
   },
   "file_extension": ".py",
   "mimetype": "text/x-python",
   "name": "python",
   "nbconvert_exporter": "python",
   "pygments_lexer": "ipython3",
   "version": "3.7.4"
  }
 },
 "nbformat": 4,
 "nbformat_minor": 2
}
